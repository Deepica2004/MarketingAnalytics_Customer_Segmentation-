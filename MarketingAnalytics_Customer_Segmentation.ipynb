{
  "metadata": {
    "kernelspec": {
      "language": "python",
      "display_name": "Python 3",
      "name": "python3"
    },
    "language_info": {
      "pygments_lexer": "ipython3",
      "nbconvert_exporter": "python",
      "version": "3.6.4",
      "file_extension": ".py",
      "codemirror_mode": {
        "name": "ipython",
        "version": 3
      },
      "name": "python",
      "mimetype": "text/x-python"
    },
    "colab": {
      "name": "Marketing Analytics: Customer Segmentation ",
      "provenance": []
    }
  },
  "nbformat_minor": 0,
  "nbformat": 4,
  "cells": [
    {
      "source": [
        "\n",
        "# IMPORTANT: RUN THIS CELL IN ORDER TO IMPORT YOUR KAGGLE DATA SOURCES\n",
        "# TO THE CORRECT LOCATION (/kaggle/input) IN YOUR NOTEBOOK,\n",
        "# THEN FEEL FREE TO DELETE THIS CELL.\n",
        "# NOTE: THIS NOTEBOOK ENVIRONMENT DIFFERS FROM KAGGLE'S PYTHON\n",
        "# ENVIRONMENT SO THERE MAY BE MISSING LIBRARIES USED BY YOUR\n",
        "# NOTEBOOK.\n",
        "\n",
        "import os\n",
        "import sys\n",
        "from tempfile import NamedTemporaryFile\n",
        "from urllib.request import urlopen\n",
        "from urllib.parse import unquote, urlparse\n",
        "from urllib.error import HTTPError\n",
        "from zipfile import ZipFile\n",
        "import tarfile\n",
        "import shutil\n",
        "\n",
        "CHUNK_SIZE = 40960\n",
        "DATA_SOURCE_MAPPING = 'marketing-data:https%3A%2F%2Fstorage.googleapis.com%2Fkaggle-data-sets%2F1046184%2F3263541%2Fbundle%2Farchive.zip%3FX-Goog-Algorithm%3DGOOG4-RSA-SHA256%26X-Goog-Credential%3Dgcp-kaggle-com%2540kaggle-161607.iam.gserviceaccount.com%252F20240314%252Fauto%252Fstorage%252Fgoog4_request%26X-Goog-Date%3D20240314T172403Z%26X-Goog-Expires%3D259200%26X-Goog-SignedHeaders%3Dhost%26X-Goog-Signature%3D34253bdef5bbd834d0d2b91a42ea587ddde9cf0e4a976e2a5dbb13b382a7a99e571eaeabb13ffad37abac953f79659cf8f16c7701bd3d88810ce0dc341d0f914aebe0e1a677a5ef86950fb80e00b52bb3e3343236a08debc538854ee28fa6130083edc0d0fa7bce5b849207ead929f6df9d774755c0a0a7e8303b0cfc24e26a9c2c9972bc9a4b6b2b1a236cc78d6fdcb2232994c7bd8d68e9e3252501454e2a84200bae111524c3357da5fb014ebcca3dbdf5bb80cedf02538a70aaeff3dbcc8b1009100967dd599076891716d1a638d3b78f99e69a05abb683226280ba62c9d41acbf22338617f05e099768e0cad7d24df3ba0747d0efedde3d4b2773dcc51d'\n",
        "\n",
        "KAGGLE_INPUT_PATH='/kaggle/input'\n",
        "KAGGLE_WORKING_PATH='/kaggle/working'\n",
        "KAGGLE_SYMLINK='kaggle'\n",
        "\n",
        "!umount /kaggle/input/ 2> /dev/null\n",
        "shutil.rmtree('/kaggle/input', ignore_errors=True)\n",
        "os.makedirs(KAGGLE_INPUT_PATH, 0o777, exist_ok=True)\n",
        "os.makedirs(KAGGLE_WORKING_PATH, 0o777, exist_ok=True)\n",
        "\n",
        "try:\n",
        "  os.symlink(KAGGLE_INPUT_PATH, os.path.join(\"..\", 'input'), target_is_directory=True)\n",
        "except FileExistsError:\n",
        "  pass\n",
        "try:\n",
        "  os.symlink(KAGGLE_WORKING_PATH, os.path.join(\"..\", 'working'), target_is_directory=True)\n",
        "except FileExistsError:\n",
        "  pass\n",
        "\n",
        "for data_source_mapping in DATA_SOURCE_MAPPING.split(','):\n",
        "    directory, download_url_encoded = data_source_mapping.split(':')\n",
        "    download_url = unquote(download_url_encoded)\n",
        "    filename = urlparse(download_url).path\n",
        "    destination_path = os.path.join(KAGGLE_INPUT_PATH, directory)\n",
        "    try:\n",
        "        with urlopen(download_url) as fileres, NamedTemporaryFile() as tfile:\n",
        "            total_length = fileres.headers['content-length']\n",
        "            print(f'Downloading {directory}, {total_length} bytes compressed')\n",
        "            dl = 0\n",
        "            data = fileres.read(CHUNK_SIZE)\n",
        "            while len(data) > 0:\n",
        "                dl += len(data)\n",
        "                tfile.write(data)\n",
        "                done = int(50 * dl / int(total_length))\n",
        "                sys.stdout.write(f\"\\r[{'=' * done}{' ' * (50-done)}] {dl} bytes downloaded\")\n",
        "                sys.stdout.flush()\n",
        "                data = fileres.read(CHUNK_SIZE)\n",
        "            if filename.endswith('.zip'):\n",
        "              with ZipFile(tfile) as zfile:\n",
        "                zfile.extractall(destination_path)\n",
        "            else:\n",
        "              with tarfile.open(tfile.name) as tarfile:\n",
        "                tarfile.extractall(destination_path)\n",
        "            print(f'\\nDownloaded and uncompressed: {directory}')\n",
        "    except HTTPError as e:\n",
        "        print(f'Failed to load (likely expired) {download_url} to path {destination_path}')\n",
        "        continue\n",
        "    except OSError as e:\n",
        "        print(f'Failed to load {download_url} to path {destination_path}')\n",
        "        continue\n",
        "\n",
        "print('Data source import complete.')\n"
      ],
      "metadata": {
        "id": "wfrAhIlC_iPE"
      },
      "cell_type": "code",
      "outputs": [],
      "execution_count": null
    },
    {
      "cell_type": "markdown",
      "source": [
        "# Marketing Analytics: Customer Segmentation\n",
        "<a id = \"table-of-contents\"></a>\n",
        "# Table of Contents\n",
        "- [Introduction](#intro)\n",
        "- [Data](#data)\n",
        "- [Data Preparation and Cleaning](#preparation)\n",
        "- [Data Exploration](#exploration)\n",
        "- [Feature Engineering](#feature_eng)\n",
        "- [K-Means Clustering](#kmeans)\n",
        "- [Exploration of Clusters](#exp_clust)\n",
        "- [Results](#results)\n",
        "- [Recommendations](#recommendations)"
      ],
      "metadata": {
        "id": "rzXhLYJx_iPf"
      }
    },
    {
      "cell_type": "markdown",
      "source": [
        "<a id = \"intro\"></a>\n",
        "# Introduction\n",
        "Customer segmentation is a powerful marketing technique that involves dividing a customer base into distinct segments based on shared characteristics, behaviours, or demographics. The primary purpose of customer segmentation is to better understand and serve customers in a more personalized and targeted way. Marketing segmentation helps to understand customer needs better  and reach the right customer with right messaging.  \n",
        "Exploratory Data Analysis (EDA) is a necessary preliminary step before using a segmentation algorithm."
      ],
      "metadata": {
        "id": "rGT53iCf_iPp"
      }
    },
    {
      "cell_type": "markdown",
      "source": [
        "<a id = \"data\"></a>\n",
        "# Data\n",
        "The data contains 2,205 observations and 39 columns. The dataset description on the card does not match the actual columns in the dataset. The below list contains actual columns from the dataset and the assumed descriptions from the column's names.\n",
        "\n",
        "| Feature | Description | Comment |\n",
        "|---------|-------------|---------|\n",
        "| **AcceptedCmp1** | 1 if customer accepted the offer in the 1st campaign, 0 otherwise | |\n",
        "| **AcceptedCmp2** | 1 if customer accepted the offer in the 2nd campaign, 0 otherwise | |\n",
        "| **AcceptedCmp3** | 1 if customer accepted the offer in the 3rd campaign, 0 otherwise | |\n",
        "| **AcceptedCmp4** | 1 if customer accepted the offer in the 4th campaign, 0 otherwise  | |\n",
        "| **AcceptedCmp5** | 1 if customer accepted the offer in the 5th campaign, 0 otherwise  | |\n",
        "| **AcceptedCmpOverall** | overall number of accepted campaigns |This column was added from the list of actual columns|\n",
        "| **Response** | 1 if customer accepted the offer in the last campaign, 0 otherwise  | |\n",
        "| **Complain** | 1 if customer complained in the last 2 years  | |\n",
        "| **DtCustomer** | date of customer’s enrolment with the company |There is no such column in the dataset|\n",
        "| **Customer_Days** | number of days since registration as a customer | |\n",
        "| **Education** | customer’s level of education |There is no such column in the actual dataset|\n",
        "| **education_2n Cycle** | customer has secondary education | This column was added from the list of actual columns|\n",
        "| **education_Basic** | customer has basic education | This column was added from the list of actual columns|\n",
        "| **education_Graduation** |Customer has a bachelor degree | This column was added from the list of actual columns|\n",
        "| **education_Master** | Customer has a masters degree|This column was added from the list of actual columns|\n",
        "| **education_PhD** | Customer has a PhD | This column was added from the list of actual columns |\n",
        "| **Marital** | customer’s marital status. |There is no such column in the actual dataset |\n",
        "| **marital_Divorced** | 1 if customer is divorced, 0 otherwise. | This column was added from the list of actual columns|\n",
        "| **marital_Married** | 1 if customer is married, 0 otherwise.| This column was added from the list of actual columns|\n",
        "| **marital_Single** | 1 if customer is single, 0 otherwise. |This column was added from the list of actual columns|\n",
        "| **marital_Together** | 1 if customer is in relationship, 0 otherwise.| This column was added from the list of actual columns|\n",
        "| **marital_Widow** | 1 if customer is a widow / widower, 0 otherwise  | |\n",
        "| **Kidhome** | number of small children in customer’s household | |\n",
        "| **Teenhome** | number of teenagers in customer’s household | |\n",
        "| **Income** | customer’s yearly household income | |\n",
        "| **MntFishProducts** | amount spent on fish products in the last 2 years | |\n",
        "| **MntMeatProducts** | amount spent on meat products in the last 2 years | |\n",
        "| **MntFruits** | amount spent on fruits products in the last 2 years | |\n",
        "| **MntSweetProducts** | amount spent on sweet products in the last 2 years | |\n",
        "| **MntWines** | amount spent on wine products in the last 2 years | |\n",
        "| **MntGoldProds** | amount spent on gold products in the last 2 years | |\n",
        "| **NumDealsPurchases** | number of purchases made with discount | |\n",
        "| **NumCatalogPurchases** | number of purchases made using catalogue | |\n",
        "| **NumStorePurchases** | number of purchases made directly in stores | |\n",
        "| **NumWebPurchases** | number of purchases made through company’s web site | |\n",
        "| **NumWebVisitsMonth** | number of visits to company’s web site in the last month | |\n",
        "| **Recency** | number of days since the last purchase | |\n",
        "| **Z_CostContact** | | This column was added from the list of actual columns|\n",
        "| **Z_Revenue** | | This column was added from the list of actual columns|\n",
        "| **Age** | Age of customer|  This column was added from the list of actual columns|\n",
        "| **MntTotal** | Total amount spent on all the products| This column was added from the list of actual columns |\n",
        "| **MntRegularProds** | | This column was added from the list of actual columns|\n"
      ],
      "metadata": {
        "id": "C3Lt4-Ah_iPt"
      }
    },
    {
      "cell_type": "markdown",
      "source": [
        "<a id = \"preparation\"></a>\n",
        "# Data Preparation and Cleaning\n",
        "In this section:\n",
        "- Reviewing data columns and comparing them to the dataset description\n",
        "- Looking for missing values\n",
        "- Checking column types\n",
        "- Assessing unique values\n"
      ],
      "metadata": {
        "id": "X2OcCLNB_iPy"
      }
    },
    {
      "cell_type": "code",
      "source": [
        "#Importing necessary libraries\n",
        "import numpy as np # linear algebra\n",
        "import pandas as pd # data processing, CSV file I/O (e.g. pd.read_csv)\n",
        "import warnings\n",
        "warnings.filterwarnings(\"ignore\")\n",
        "import seaborn as sns\n",
        "import matplotlib.pyplot as plt\n",
        "from scipy.stats import pointbiserialr"
      ],
      "metadata": {
        "execution": {
          "iopub.status.busy": "2023-10-17T14:54:42.492427Z",
          "iopub.execute_input": "2023-10-17T14:54:42.492803Z",
          "iopub.status.idle": "2023-10-17T14:54:42.49834Z",
          "shell.execute_reply.started": "2023-10-17T14:54:42.492774Z",
          "shell.execute_reply": "2023-10-17T14:54:42.497117Z"
        },
        "trusted": true,
        "id": "_T9MUlOb_iP4"
      },
      "execution_count": null,
      "outputs": []
    },
    {
      "cell_type": "code",
      "source": [
        "#Reading the data\n",
        "data = pd.read_csv('/kaggle/input/marketing-data/ifood_df.csv')\n",
        "\n",
        "#Taking a look at the top 5 rows of the data\n",
        "data.head()"
      ],
      "metadata": {
        "execution": {
          "iopub.status.busy": "2023-10-17T14:54:42.656657Z",
          "iopub.execute_input": "2023-10-17T14:54:42.658926Z",
          "iopub.status.idle": "2023-10-17T14:54:42.694286Z",
          "shell.execute_reply.started": "2023-10-17T14:54:42.658891Z",
          "shell.execute_reply": "2023-10-17T14:54:42.693123Z"
        },
        "trusted": true,
        "id": "y1H8RaZt_iP7"
      },
      "execution_count": null,
      "outputs": []
    },
    {
      "cell_type": "markdown",
      "source": [
        "There is some data in the dataframe. Let's dig into the data."
      ],
      "metadata": {
        "id": "T_GoSpca_iP-"
      }
    },
    {
      "cell_type": "markdown",
      "source": [
        "## Reviewing data columns and comparing them to the dataset description\n",
        "\n",
        "\n",
        "Retrieving the list of actual columns to compare with the column's description in the dictionary.png. The list of columns has been updated and the data description contains actual columns."
      ],
      "metadata": {
        "id": "h25bPG_f_iQA"
      }
    },
    {
      "cell_type": "code",
      "source": [
        "data.columns"
      ],
      "metadata": {
        "execution": {
          "iopub.status.busy": "2023-10-17T14:54:42.925939Z",
          "iopub.execute_input": "2023-10-17T14:54:42.926302Z",
          "iopub.status.idle": "2023-10-17T14:54:42.933494Z",
          "shell.execute_reply.started": "2023-10-17T14:54:42.926274Z",
          "shell.execute_reply": "2023-10-17T14:54:42.932685Z"
        },
        "trusted": true,
        "id": "lv3htg-E_iQC"
      },
      "execution_count": null,
      "outputs": []
    },
    {
      "cell_type": "markdown",
      "source": [
        "## Looking for missing values\n",
        "Surprisingly, there is no missing values in the data and there are 2,205 observations in the data frame."
      ],
      "metadata": {
        "id": "bjOHpbug_iQE"
      }
    },
    {
      "cell_type": "code",
      "source": [
        "data.isna().sum()"
      ],
      "metadata": {
        "execution": {
          "iopub.status.busy": "2023-10-17T14:54:43.077391Z",
          "iopub.execute_input": "2023-10-17T14:54:43.07781Z",
          "iopub.status.idle": "2023-10-17T14:54:43.087292Z",
          "shell.execute_reply.started": "2023-10-17T14:54:43.077759Z",
          "shell.execute_reply": "2023-10-17T14:54:43.086002Z"
        },
        "trusted": true,
        "id": "QbK5A_oC_iQG"
      },
      "execution_count": null,
      "outputs": []
    },
    {
      "cell_type": "markdown",
      "source": [
        "## Checking column types\n",
        "All column types look good. There is no need to change any data types."
      ],
      "metadata": {
        "id": "k85_Jsa2_iQJ"
      }
    },
    {
      "cell_type": "code",
      "source": [
        "data.info()"
      ],
      "metadata": {
        "execution": {
          "iopub.status.busy": "2023-10-17T14:54:43.228346Z",
          "iopub.execute_input": "2023-10-17T14:54:43.229125Z",
          "iopub.status.idle": "2023-10-17T14:54:43.243606Z",
          "shell.execute_reply.started": "2023-10-17T14:54:43.229086Z",
          "shell.execute_reply": "2023-10-17T14:54:43.242405Z"
        },
        "trusted": true,
        "id": "iPQrdNlS_iQK"
      },
      "execution_count": null,
      "outputs": []
    },
    {
      "cell_type": "markdown",
      "source": [
        "## Assessing unique values\n",
        "Let's check the unique values in each column. If a column has the same values then we cannot use this column in our analysis and can remove it from the data frame."
      ],
      "metadata": {
        "id": "9vK1kKfv_iQL"
      }
    },
    {
      "cell_type": "code",
      "source": [
        "data.nunique()"
      ],
      "metadata": {
        "execution": {
          "iopub.status.busy": "2023-10-17T14:54:43.368557Z",
          "iopub.execute_input": "2023-10-17T14:54:43.369655Z",
          "iopub.status.idle": "2023-10-17T14:54:43.383627Z",
          "shell.execute_reply.started": "2023-10-17T14:54:43.369621Z",
          "shell.execute_reply": "2023-10-17T14:54:43.382456Z"
        },
        "trusted": true,
        "id": "NcN2Y2kH_iQM"
      },
      "execution_count": null,
      "outputs": []
    },
    {
      "cell_type": "markdown",
      "source": [
        "Columns Z_CostContact and Z_Revenue have all the same values. These columns will not help us to understand our customers better. We can drop these columns from the data frame."
      ],
      "metadata": {
        "id": "0x7ggf34_iQN"
      }
    },
    {
      "cell_type": "code",
      "source": [
        "data.drop(columns=['Z_CostContact','Z_Revenue'],inplace=True)"
      ],
      "metadata": {
        "execution": {
          "iopub.status.busy": "2023-10-17T14:54:43.636388Z",
          "iopub.execute_input": "2023-10-17T14:54:43.63673Z",
          "iopub.status.idle": "2023-10-17T14:54:43.642995Z",
          "shell.execute_reply.started": "2023-10-17T14:54:43.636704Z",
          "shell.execute_reply": "2023-10-17T14:54:43.642152Z"
        },
        "trusted": true,
        "id": "MdVmCPpQ_iQO"
      },
      "execution_count": null,
      "outputs": []
    },
    {
      "cell_type": "markdown",
      "source": [
        "<a id=\"exploration\"></a>    \n",
        "# Data Exploration\n",
        "In this section:\n",
        "- Box plot for the total amount spent on all products (MntTotal)\n",
        "- Outliers\n",
        "- Box plot and histogram for income\n",
        "- Histogram for age\n",
        "- Correlation matrix\n",
        "- Point-Biserial correlations for binary variables"
      ],
      "metadata": {
        "id": "x7eNkZgJ_iQW"
      }
    },
    {
      "cell_type": "markdown",
      "source": [
        "## Box plot for the total amount spent on all products (MntTotal)\n",
        "Our analysis will be focused on total amount spent on all products (MntTotal). Boxplot will help us to find outliers if any."
      ],
      "metadata": {
        "id": "yQ-2DYBo_iQY"
      }
    },
    {
      "cell_type": "code",
      "source": [
        "plt.figure(figsize=(6, 4))\n",
        "sns.boxplot(data=data, y='MntTotal')\n",
        "plt.title('Box Plot for MntTotal')\n",
        "plt.ylabel('MntTotal')\n",
        "plt.show()"
      ],
      "metadata": {
        "execution": {
          "iopub.status.busy": "2023-10-17T14:54:43.759134Z",
          "iopub.execute_input": "2023-10-17T14:54:43.759725Z",
          "iopub.status.idle": "2023-10-17T14:54:43.968349Z",
          "shell.execute_reply.started": "2023-10-17T14:54:43.759693Z",
          "shell.execute_reply": "2023-10-17T14:54:43.967125Z"
        },
        "trusted": true,
        "id": "VDdwycwu_iQZ"
      },
      "execution_count": null,
      "outputs": []
    },
    {
      "cell_type": "markdown",
      "source": [
        "## Outliers\n",
        "The box plot spotted a few outliers in the MntTotal. Let's take a closer look at the outliers."
      ],
      "metadata": {
        "id": "mNAc2Cxb_iQc"
      }
    },
    {
      "cell_type": "code",
      "source": [
        "Q1 = data['MntTotal'].quantile(0.25)\n",
        "Q3 = data['MntTotal'].quantile(0.75)\n",
        "IQR = Q3 - Q1\n",
        "lower_bound = Q1 - 1.5 * IQR\n",
        "upper_bound = Q3 + 1.5 * IQR\n",
        "outliers = data[(data['MntTotal'] < lower_bound) | (data['MntTotal'] > upper_bound)]\n",
        "outliers.head()"
      ],
      "metadata": {
        "execution": {
          "iopub.status.busy": "2023-10-17T14:54:43.969996Z",
          "iopub.execute_input": "2023-10-17T14:54:43.970293Z",
          "iopub.status.idle": "2023-10-17T14:54:43.994403Z",
          "shell.execute_reply.started": "2023-10-17T14:54:43.970267Z",
          "shell.execute_reply": "2023-10-17T14:54:43.992993Z"
        },
        "trusted": true,
        "id": "3hPjvs1L_iQd"
      },
      "execution_count": null,
      "outputs": []
    },
    {
      "cell_type": "markdown",
      "source": [
        "### Outliers removal"
      ],
      "metadata": {
        "id": "ECmX1A3O_iQe"
      }
    },
    {
      "cell_type": "code",
      "source": [
        "data = data[(data['MntTotal'] > lower_bound) & (data['MntTotal'] < upper_bound)]\n",
        "data.describe()"
      ],
      "metadata": {
        "execution": {
          "iopub.status.busy": "2023-10-17T14:54:43.997543Z",
          "iopub.execute_input": "2023-10-17T14:54:43.998128Z",
          "iopub.status.idle": "2023-10-17T14:54:44.093281Z",
          "shell.execute_reply.started": "2023-10-17T14:54:43.998098Z",
          "shell.execute_reply": "2023-10-17T14:54:44.091989Z"
        },
        "trusted": true,
        "id": "GjlYmTBE_iQf"
      },
      "execution_count": null,
      "outputs": []
    },
    {
      "cell_type": "markdown",
      "source": [
        "## Box plot and histogram for income"
      ],
      "metadata": {
        "id": "qlgTDEhd_iQg"
      }
    },
    {
      "cell_type": "code",
      "source": [
        "plt.figure(figsize=(6, 4))\n",
        "sns.boxplot(data=data, y='Income', palette='viridis')\n",
        "plt.title('Box Plot for Income')\n",
        "plt.ylabel('Income')\n",
        "plt.show()"
      ],
      "metadata": {
        "execution": {
          "iopub.status.busy": "2023-10-17T14:54:44.095203Z",
          "iopub.execute_input": "2023-10-17T14:54:44.095741Z",
          "iopub.status.idle": "2023-10-17T14:54:44.30019Z",
          "shell.execute_reply.started": "2023-10-17T14:54:44.095712Z",
          "shell.execute_reply": "2023-10-17T14:54:44.299301Z"
        },
        "trusted": true,
        "id": "cLW3JmkV_iQg"
      },
      "execution_count": null,
      "outputs": []
    },
    {
      "cell_type": "code",
      "source": [
        "plt.figure(figsize=(8, 6))\n",
        "sns.histplot(data=data, x='Income', bins=30, kde=True)\n",
        "plt.title('Histogram for Income')\n",
        "plt.xlabel('Income')\n",
        "plt.ylabel('Frequency')\n",
        "plt.show()"
      ],
      "metadata": {
        "execution": {
          "iopub.status.busy": "2023-10-17T14:54:44.301336Z",
          "iopub.execute_input": "2023-10-17T14:54:44.301821Z",
          "iopub.status.idle": "2023-10-17T14:54:44.709205Z",
          "shell.execute_reply.started": "2023-10-17T14:54:44.301793Z",
          "shell.execute_reply": "2023-10-17T14:54:44.708043Z"
        },
        "trusted": true,
        "id": "MGSeLAny_iQh"
      },
      "execution_count": null,
      "outputs": []
    },
    {
      "cell_type": "markdown",
      "source": [
        "Income distribution is close to normal distribution with no outliers."
      ],
      "metadata": {
        "id": "rXqQTq79_iQi"
      }
    },
    {
      "cell_type": "markdown",
      "source": [
        "## Histogram for age"
      ],
      "metadata": {
        "id": "iXK64nJj_iQj"
      }
    },
    {
      "cell_type": "code",
      "source": [
        "plt.figure(figsize=(8, 6))\n",
        "sns.histplot(data=data, x='Age', bins=30, kde=True)\n",
        "plt.title('Histogram for Age')\n",
        "plt.xlabel('Age')\n",
        "plt.ylabel('Frequency')\n",
        "plt.show()"
      ],
      "metadata": {
        "execution": {
          "iopub.status.busy": "2023-10-17T14:54:44.711882Z",
          "iopub.execute_input": "2023-10-17T14:54:44.712198Z",
          "iopub.status.idle": "2023-10-17T14:54:45.123219Z",
          "shell.execute_reply.started": "2023-10-17T14:54:44.71217Z",
          "shell.execute_reply": "2023-10-17T14:54:45.122045Z"
        },
        "trusted": true,
        "id": "pLbm-QMK_iQk"
      },
      "execution_count": null,
      "outputs": []
    },
    {
      "cell_type": "code",
      "source": [
        "print(\"Skewness: %f\" % data['Age'].skew())\n",
        "print(\"Kurtosis: %f\" % data['Age'].kurt())"
      ],
      "metadata": {
        "execution": {
          "iopub.status.busy": "2023-10-17T14:54:45.124955Z",
          "iopub.execute_input": "2023-10-17T14:54:45.125696Z",
          "iopub.status.idle": "2023-10-17T14:54:45.133333Z",
          "shell.execute_reply.started": "2023-10-17T14:54:45.125637Z",
          "shell.execute_reply": "2023-10-17T14:54:45.132212Z"
        },
        "trusted": true,
        "id": "7srRaWVs_iQm"
      },
      "execution_count": null,
      "outputs": []
    },
    {
      "cell_type": "markdown",
      "source": [
        "The age distribution looks approximately symmetrical and the left and right sides of distribution are roughly equal. Skewness of 0.09 (close to zero) supports the visual observation of the distribution.\n",
        "Kurtosis of -0.8 suggests that the distribution is close to normal with lighter tails and less peaked than a normal distribution."
      ],
      "metadata": {
        "id": "joqqO_it_iQp"
      }
    },
    {
      "cell_type": "markdown",
      "source": [
        "## Correlation matrix\n",
        "\n",
        "There are many columns in the data. The correlation matrix will be very crowded if we use all columns of the data frame. We will group the columns and explore correlation between columns in each group and the column 'MntTotal'. We will focus on the column 'MntTotal' to understand how we can segment the customers who buy the most in overall. We can run similar analysis for every type of product."
      ],
      "metadata": {
        "id": "kH-1hb6m_iQq"
      }
    },
    {
      "cell_type": "code",
      "source": [
        "cols_demographics = ['Income','Age']\n",
        "cols_children = ['Kidhome', 'Teenhome']\n",
        "cols_marital = ['marital_Divorced', 'marital_Married','marital_Single', 'marital_Together', 'marital_Widow']\n",
        "cols_mnt = ['MntTotal', 'MntRegularProds','MntWines', 'MntFruits', 'MntMeatProducts', 'MntFishProducts', 'MntSweetProducts', 'MntGoldProds']\n",
        "cols_communication = ['Complain', 'Response', 'Customer_Days']\n",
        "cols_campaigns = ['AcceptedCmpOverall', 'AcceptedCmp1', 'AcceptedCmp2', 'AcceptedCmp3', 'AcceptedCmp4', 'AcceptedCmp5']\n",
        "cols_source_of_purchase = ['NumDealsPurchases', 'NumWebPurchases','NumCatalogPurchases', 'NumStorePurchases', 'NumWebVisitsMonth']\n",
        "cols_education = ['education_2n Cycle', 'education_Basic', 'education_Graduation', 'education_Master', 'education_PhD']"
      ],
      "metadata": {
        "execution": {
          "iopub.status.busy": "2023-10-17T14:54:45.134707Z",
          "iopub.execute_input": "2023-10-17T14:54:45.135105Z",
          "iopub.status.idle": "2023-10-17T14:54:45.147588Z",
          "shell.execute_reply.started": "2023-10-17T14:54:45.135076Z",
          "shell.execute_reply": "2023-10-17T14:54:45.146635Z"
        },
        "trusted": true,
        "id": "JCCJ4LWq_iQs"
      },
      "execution_count": null,
      "outputs": []
    },
    {
      "cell_type": "code",
      "source": [
        "corr_matrix = data[['MntTotal']+cols_demographics+cols_children].corr()\n",
        "plt.figure(figsize=(6,6))\n",
        "sns.heatmap(corr_matrix, annot=True, cmap='coolwarm', linewidths=0.5)\n",
        "plt.title('Correlation Matrix Heatmap')\n",
        "plt.show()"
      ],
      "metadata": {
        "execution": {
          "iopub.status.busy": "2023-10-17T14:54:45.148927Z",
          "iopub.execute_input": "2023-10-17T14:54:45.150115Z",
          "iopub.status.idle": "2023-10-17T14:54:45.506151Z",
          "shell.execute_reply.started": "2023-10-17T14:54:45.150066Z",
          "shell.execute_reply": "2023-10-17T14:54:45.505086Z"
        },
        "trusted": true,
        "id": "dTD1CIGe_iQt"
      },
      "execution_count": null,
      "outputs": []
    },
    {
      "cell_type": "markdown",
      "source": [
        "MntTotal has strong positive correlation with income and intermediate negative correlation with Kidhome. Income feature has nearly the same negative correlation with Kidhome and MntTotal."
      ],
      "metadata": {
        "id": "HTXkS2GK_iQu"
      }
    },
    {
      "cell_type": "markdown",
      "source": [
        "## Point-Biserial correlations for binary variables\n",
        "Pearson correlation measures the strength and direction of a linear relationship between two continuous variables. We used Pearson correlation for MntTotal, Age and Income. When we try to understand the relationship between a continuous variable MntTotal and binary variables like marital status then we should use Point-Biserial Correlation\n",
        "Point-Biserial Correlation is used to measure the strength and direction of the linear relationship between a binary variable and a continuous variable."
      ],
      "metadata": {
        "id": "Cjem-t3t_iQv"
      }
    },
    {
      "cell_type": "code",
      "source": [
        "for col in cols_marital:\n",
        "    correlation, p_value = pointbiserialr(data[col], data['MntTotal'])\n",
        "    print(f'{correlation:.4f}: Point-Biserial Correlation for {col} with p-value {p_value:.4f}')"
      ],
      "metadata": {
        "execution": {
          "iopub.status.busy": "2023-10-17T14:54:45.507828Z",
          "iopub.execute_input": "2023-10-17T14:54:45.508492Z",
          "iopub.status.idle": "2023-10-17T14:54:45.523165Z",
          "shell.execute_reply.started": "2023-10-17T14:54:45.508449Z",
          "shell.execute_reply": "2023-10-17T14:54:45.521867Z"
        },
        "trusted": true,
        "id": "4Trqavzt_iQw"
      },
      "execution_count": null,
      "outputs": []
    },
    {
      "cell_type": "markdown",
      "source": [
        "There is no strong Point-Biserial correlation between MntTotal and different marital statuses. Some feature engineering may be required during the modelling process."
      ],
      "metadata": {
        "id": "ZaMWQ0UH_iRH"
      }
    },
    {
      "cell_type": "code",
      "source": [
        "for col in cols_education:\n",
        "    correlation, p_value = pointbiserialr(data[col], data['MntTotal'])\n",
        "    print(f'{correlation:.4f}: Point-Biserial Correlation for {col} with p-value {p_value:.4f}')"
      ],
      "metadata": {
        "execution": {
          "iopub.status.busy": "2023-10-17T14:54:45.526163Z",
          "iopub.execute_input": "2023-10-17T14:54:45.527467Z",
          "iopub.status.idle": "2023-10-17T14:54:45.541687Z",
          "shell.execute_reply.started": "2023-10-17T14:54:45.527375Z",
          "shell.execute_reply": "2023-10-17T14:54:45.540627Z"
        },
        "trusted": true,
        "id": "o2ML1JN3_iRI"
      },
      "execution_count": null,
      "outputs": []
    },
    {
      "cell_type": "markdown",
      "source": [
        "There is no strong Point-Biserial correlation between MntTotal and various education levels."
      ],
      "metadata": {
        "id": "tbmIeLgi_iRK"
      }
    },
    {
      "cell_type": "markdown",
      "source": [
        "<a id=\"feature_eng\"></a>\n",
        "# Feature Engineering\n",
        "In this section:\n",
        "- New feature: Marital\n",
        "- New feature: In_relationship\n"
      ],
      "metadata": {
        "id": "yJn3Inae_iRL"
      }
    },
    {
      "cell_type": "markdown",
      "source": [
        "## New feature: Marital\n",
        "The data frame contains 5 columns to reflect marital status. We are going to create a new column 'marital' with values: Divorced, Married, Single, Together, Widow. This column will allow us to draw some additional plots."
      ],
      "metadata": {
        "id": "t-xM4MBq_iRM"
      }
    },
    {
      "cell_type": "code",
      "source": [
        "def get_marital_status(row):\n",
        "    if row['marital_Divorced'] == 1:\n",
        "        return 'Divorced'\n",
        "    elif row['marital_Married'] == 1:\n",
        "        return 'Married'\n",
        "    elif row['marital_Single'] == 1:\n",
        "        return 'Single'\n",
        "    elif row['marital_Together'] == 1:\n",
        "        return 'Together'\n",
        "    elif row['marital_Widow'] == 1:\n",
        "        return 'Widow'\n",
        "    else:\n",
        "        return 'Unknown'\n",
        "data['Marital'] = data.apply(get_marital_status, axis=1)\n"
      ],
      "metadata": {
        "execution": {
          "iopub.status.busy": "2023-10-17T14:54:45.543278Z",
          "iopub.execute_input": "2023-10-17T14:54:45.543729Z",
          "iopub.status.idle": "2023-10-17T14:54:45.575862Z",
          "shell.execute_reply.started": "2023-10-17T14:54:45.543645Z",
          "shell.execute_reply": "2023-10-17T14:54:45.574237Z"
        },
        "trusted": true,
        "id": "D6aXE2bG_iRN"
      },
      "execution_count": null,
      "outputs": []
    },
    {
      "cell_type": "code",
      "source": [
        "plt.figure(figsize=(8, 6))\n",
        "sns.barplot(x='Marital', y='MntTotal', data=data, palette='viridis')\n",
        "plt.title('MntTotal by marital status')\n",
        "plt.xlabel('Marital status')\n",
        "plt.ylabel('MntTotal')"
      ],
      "metadata": {
        "execution": {
          "iopub.status.busy": "2023-10-17T14:54:45.578413Z",
          "iopub.execute_input": "2023-10-17T14:54:45.579616Z",
          "iopub.status.idle": "2023-10-17T14:54:46.024536Z",
          "shell.execute_reply.started": "2023-10-17T14:54:45.579475Z",
          "shell.execute_reply": "2023-10-17T14:54:46.02348Z"
        },
        "trusted": true,
        "id": "ct28ac6s_iRN"
      },
      "execution_count": null,
      "outputs": []
    },
    {
      "cell_type": "markdown",
      "source": [
        "## New feature: In_relationship\n",
        "There are 3 features that reflect if a person is single (Single, Divorced, Widow) and 2 features if a person is in relationship (Together, Married). We will add an additional feature 'In_relationship'. This feature will equal 1 if a customer's marital status is 'Married' or 'Together' and 0 in all other cases."
      ],
      "metadata": {
        "id": "_9gGTuks_iRO"
      }
    },
    {
      "cell_type": "code",
      "source": [
        "def get_relationship(row):\n",
        "    if row['marital_Married'] ==1:\n",
        "        return 1\n",
        "    elif row['marital_Together'] == 1:\n",
        "        return 1\n",
        "    else:\n",
        "        return 0\n",
        "data['In_relationship'] = data.apply(get_relationship, axis=1)\n",
        "data.head()\n"
      ],
      "metadata": {
        "execution": {
          "iopub.status.busy": "2023-10-17T14:54:46.02571Z",
          "iopub.execute_input": "2023-10-17T14:54:46.026146Z",
          "iopub.status.idle": "2023-10-17T14:54:46.06402Z",
          "shell.execute_reply.started": "2023-10-17T14:54:46.026116Z",
          "shell.execute_reply": "2023-10-17T14:54:46.06315Z"
        },
        "trusted": true,
        "id": "0Ot5nJxR_iRQ"
      },
      "execution_count": null,
      "outputs": []
    },
    {
      "cell_type": "markdown",
      "source": [
        "<a id=\"kmeans\"></a>\n",
        "# K-Means Clustering\n",
        "K-means clustering is an unsupervised machine learning algorithm used to cluster data based on similarity. K-means clustering usually works well in practice and scales well to the large datasets.\n",
        "\n",
        "In this section:\n",
        "- Standardising data\n",
        "- Principal Component Analysis (PCA)\n",
        "- Elbow method\n",
        "- Silhouette score analysis\n",
        "\n"
      ],
      "metadata": {
        "id": "PigSwU4u_iRQ"
      }
    },
    {
      "cell_type": "code",
      "source": [
        "from sklearn.cluster import KMeans"
      ],
      "metadata": {
        "execution": {
          "iopub.status.busy": "2023-10-17T14:54:46.065026Z",
          "iopub.execute_input": "2023-10-17T14:54:46.065751Z",
          "iopub.status.idle": "2023-10-17T14:54:46.070721Z",
          "shell.execute_reply.started": "2023-10-17T14:54:46.065722Z",
          "shell.execute_reply": "2023-10-17T14:54:46.069555Z"
        },
        "trusted": true,
        "id": "b4k19lzB_iRR"
      },
      "execution_count": null,
      "outputs": []
    },
    {
      "cell_type": "markdown",
      "source": [
        "## Standardising data\n",
        "K-means clustering algorithm is based on the calculation of distances between data points to form clusters. When features have different scales, features with larger scales can disproportionately influence the distance calculation. There are various ways to standardise features, we will use <b> standard scaling </b>."
      ],
      "metadata": {
        "id": "CiAfmFu8_iRS"
      }
    },
    {
      "cell_type": "code",
      "source": [
        "from sklearn.preprocessing import StandardScaler\n",
        "scaler = StandardScaler()\n",
        "cols_for_clustering = ['Income', 'MntTotal', 'In_relationship']\n",
        "data_scaled = data.copy()\n",
        "data_scaled[cols_for_clustering] = scaler.fit_transform(data[cols_for_clustering])\n",
        "data_scaled[cols_for_clustering].describe()"
      ],
      "metadata": {
        "execution": {
          "iopub.status.busy": "2023-10-17T14:54:46.072083Z",
          "iopub.execute_input": "2023-10-17T14:54:46.07239Z",
          "iopub.status.idle": "2023-10-17T14:54:46.107337Z",
          "shell.execute_reply.started": "2023-10-17T14:54:46.072364Z",
          "shell.execute_reply": "2023-10-17T14:54:46.106152Z"
        },
        "trusted": true,
        "id": "9Oq6-6kP_iRS"
      },
      "execution_count": null,
      "outputs": []
    },
    {
      "cell_type": "markdown",
      "source": [
        "The mean value for all colums is almost zero and the standard deviation is almost 1. All the data points were replaced by their z-scores."
      ],
      "metadata": {
        "id": "-7QHaH5T_iRT"
      }
    },
    {
      "cell_type": "markdown",
      "source": [
        "## Principal Component Analysis (PCA)\n",
        "PCA is a technique of dimensionality reduction. PCA takes the original features (dimensions) and create new features that capture the most variance of the data."
      ],
      "metadata": {
        "id": "RNK8JLvl_iRU"
      }
    },
    {
      "cell_type": "code",
      "source": [
        "from sklearn import decomposition\n",
        "pca = decomposition.PCA(n_components = 2)\n",
        "pca_res = pca.fit_transform(data_scaled[cols_for_clustering])\n",
        "data_scaled['pc1'] = pca_res[:,0]\n",
        "data_scaled['pc2'] = pca_res[:,1]"
      ],
      "metadata": {
        "execution": {
          "iopub.status.busy": "2023-10-17T14:54:46.108687Z",
          "iopub.execute_input": "2023-10-17T14:54:46.109103Z",
          "iopub.status.idle": "2023-10-17T14:54:46.121796Z",
          "shell.execute_reply.started": "2023-10-17T14:54:46.109063Z",
          "shell.execute_reply": "2023-10-17T14:54:46.120917Z"
        },
        "trusted": true,
        "id": "3Tn8SSpu_iRV"
      },
      "execution_count": null,
      "outputs": []
    },
    {
      "cell_type": "markdown",
      "source": [
        "## Elbow method\n",
        "The elbow method is a technique used to determine the optimal number of clusters (K) for K-means clustering algorithm."
      ],
      "metadata": {
        "id": "lmJUseyn_iRV"
      }
    },
    {
      "cell_type": "code",
      "source": [
        "X = data_scaled[cols_for_clustering]\n",
        "inertia_list = []\n",
        "for K in range(2,10):\n",
        "    inertia = KMeans(n_clusters=K, random_state=7).fit(X).inertia_\n",
        "    inertia_list.append(inertia)"
      ],
      "metadata": {
        "execution": {
          "iopub.status.busy": "2023-10-17T14:54:46.125404Z",
          "iopub.execute_input": "2023-10-17T14:54:46.125994Z",
          "iopub.status.idle": "2023-10-17T14:54:46.548814Z",
          "shell.execute_reply.started": "2023-10-17T14:54:46.125956Z",
          "shell.execute_reply": "2023-10-17T14:54:46.547124Z"
        },
        "trusted": true,
        "id": "VNAvtqTU_iRW"
      },
      "execution_count": null,
      "outputs": []
    },
    {
      "cell_type": "code",
      "source": [
        "\n",
        "plt.figure(figsize=[7,5])\n",
        "plt.plot(range(2,10), inertia_list, color=(54 / 255, 113 / 255, 130 / 255))\n",
        "plt.title(\"Inertia vs. Number of Clusters\")\n",
        "plt.xlabel(\"Number of Clusters (K)\")\n",
        "plt.ylabel(\"Inertia\")\n",
        "plt.show()"
      ],
      "metadata": {
        "execution": {
          "iopub.status.busy": "2023-10-17T14:54:46.553194Z",
          "iopub.execute_input": "2023-10-17T14:54:46.555396Z",
          "iopub.status.idle": "2023-10-17T14:54:46.824385Z",
          "shell.execute_reply.started": "2023-10-17T14:54:46.555354Z",
          "shell.execute_reply": "2023-10-17T14:54:46.823592Z"
        },
        "trusted": true,
        "id": "4dKySEUU_iRY"
      },
      "execution_count": null,
      "outputs": []
    },
    {
      "cell_type": "markdown",
      "source": [
        "Elbow method suggests 4 or 5 clusters. Let's check silhouette score."
      ],
      "metadata": {
        "id": "tUoyv5dA_iRk"
      }
    },
    {
      "cell_type": "markdown",
      "source": [
        "## Silhouette score analysis\n",
        "Silhouette score is a metric that used to assess the quality of clustering. A higher silhouette score indicates that the clusters are well-separated, while a lower score suggests that the clusters may overlap or are poorly defined."
      ],
      "metadata": {
        "id": "1UK6UkN__iRm"
      }
    },
    {
      "cell_type": "code",
      "source": [
        "from sklearn.metrics import silhouette_score\n",
        "silhouette_list = []\n",
        "for K in range(2,10):\n",
        "    model = KMeans(n_clusters = K, random_state=7)\n",
        "    clusters = model.fit_predict(X)\n",
        "    s_avg = silhouette_score(X, clusters)\n",
        "    silhouette_list.append(s_avg)\n",
        "\n",
        "plt.figure(figsize=[7,5])\n",
        "plt.plot(range(2,10), silhouette_list, color=(54 / 255, 113 / 255, 130 / 255))\n",
        "plt.title(\"Silhouette Score vs. Number of Clusters\")\n",
        "plt.xlabel(\"Number of Clusters (K)\")\n",
        "plt.ylabel(\"Silhouette Score\")\n",
        "plt.show()"
      ],
      "metadata": {
        "execution": {
          "iopub.status.busy": "2023-10-17T14:54:46.825786Z",
          "iopub.execute_input": "2023-10-17T14:54:46.826554Z",
          "iopub.status.idle": "2023-10-17T14:54:48.589174Z",
          "shell.execute_reply.started": "2023-10-17T14:54:46.826494Z",
          "shell.execute_reply": "2023-10-17T14:54:48.588404Z"
        },
        "trusted": true,
        "id": "lgs71ohd_iRn"
      },
      "execution_count": null,
      "outputs": []
    },
    {
      "cell_type": "markdown",
      "source": [
        "The highest silhouette score is for 4 clusters."
      ],
      "metadata": {
        "id": "o7arKdSZ_iRo"
      }
    },
    {
      "cell_type": "code",
      "source": [
        "model = KMeans(n_clusters=4, random_state = 7)\n",
        "model.fit(data_scaled[cols_for_clustering])\n",
        "data_scaled['Cluster'] = model.predict(data_scaled[cols_for_clustering])"
      ],
      "metadata": {
        "execution": {
          "iopub.status.busy": "2023-10-17T14:54:48.590315Z",
          "iopub.execute_input": "2023-10-17T14:54:48.591255Z",
          "iopub.status.idle": "2023-10-17T14:54:48.643338Z",
          "shell.execute_reply.started": "2023-10-17T14:54:48.591221Z",
          "shell.execute_reply": "2023-10-17T14:54:48.642244Z"
        },
        "trusted": true,
        "id": "BHzTUpda_iRq"
      },
      "execution_count": null,
      "outputs": []
    },
    {
      "cell_type": "markdown",
      "source": [
        "<a id=\"exp_clust\"></a>\n",
        "# Exploration of Clusters\n",
        "In this section:\n",
        "- Visualisation of clusters\n",
        "- Mean consumption of different product types by cluster\n",
        "- Cluster sizes\n",
        "- Income by cluster\n",
        "- In_relationship feature by cluster"
      ],
      "metadata": {
        "id": "3ftpFawB_iRs"
      }
    },
    {
      "cell_type": "markdown",
      "source": [
        "\n",
        "\n",
        "## Visualisation of clusters"
      ],
      "metadata": {
        "id": "02TV3IvI_iRt"
      }
    },
    {
      "cell_type": "code",
      "source": [
        "plt.figure(figsize=(8, 6))\n",
        "sns.scatterplot(x='pc1', y='pc2', data=data_scaled, hue='Cluster', palette='viridis')\n",
        "plt.title('Clustered Data Visualization')\n",
        "plt.xlabel('Principal Component 1 (pc1)')\n",
        "plt.ylabel('Principal Component 2 (pc2)')\n",
        "plt.legend(title='Clusters')"
      ],
      "metadata": {
        "execution": {
          "iopub.status.busy": "2023-10-17T14:54:48.649007Z",
          "iopub.execute_input": "2023-10-17T14:54:48.649385Z",
          "iopub.status.idle": "2023-10-17T14:54:49.413812Z",
          "shell.execute_reply.started": "2023-10-17T14:54:48.649357Z",
          "shell.execute_reply": "2023-10-17T14:54:49.412596Z"
        },
        "trusted": true,
        "id": "Q96Eqk1K_iRw"
      },
      "execution_count": null,
      "outputs": []
    },
    {
      "cell_type": "code",
      "source": [
        "data['Cluster'] = data_scaled.Cluster\n",
        "data.groupby('Cluster')[cols_for_clustering].mean()"
      ],
      "metadata": {
        "execution": {
          "iopub.status.busy": "2023-10-17T14:54:49.415417Z",
          "iopub.execute_input": "2023-10-17T14:54:49.417034Z",
          "iopub.status.idle": "2023-10-17T14:54:49.43348Z",
          "shell.execute_reply.started": "2023-10-17T14:54:49.416988Z",
          "shell.execute_reply": "2023-10-17T14:54:49.431245Z"
        },
        "trusted": true,
        "id": "35mpQwOX_iRx"
      },
      "execution_count": null,
      "outputs": []
    },
    {
      "cell_type": "markdown",
      "source": [
        "## Mean consumption of different product types by cluster"
      ],
      "metadata": {
        "id": "vGrrd3Ux_iRz"
      }
    },
    {
      "cell_type": "code",
      "source": [
        "mnt_data = data.groupby('Cluster')[cols_mnt].mean().reset_index()\n",
        "mnt_data.head()"
      ],
      "metadata": {
        "execution": {
          "iopub.status.busy": "2023-10-17T15:15:18.127965Z",
          "iopub.execute_input": "2023-10-17T15:15:18.128445Z",
          "iopub.status.idle": "2023-10-17T15:15:18.154946Z",
          "shell.execute_reply.started": "2023-10-17T15:15:18.128403Z",
          "shell.execute_reply": "2023-10-17T15:15:18.153756Z"
        },
        "trusted": true,
        "id": "ewdT5ldS_iR0"
      },
      "execution_count": null,
      "outputs": []
    },
    {
      "cell_type": "code",
      "source": [
        "melted_data = pd.melt(mnt_data, id_vars=\"Cluster\", var_name=\"Product\", value_name=\"Consumption\")\n",
        "plt.figure(figsize=(12, 6))\n",
        "sns.barplot(x=\"Cluster\", y=\"Consumption\", hue=\"Product\", data=melted_data, ci=None, palette=\"viridis\")\n",
        "plt.title(\"Product Consumption by Cluster\")\n",
        "plt.xlabel(\"Cluster\")\n",
        "plt.ylabel(\"Product Consumption\")\n",
        "plt.xticks(rotation=0)\n",
        "plt.legend(title=\"Product\", loc=\"upper right\")\n",
        "\n",
        "plt.show()"
      ],
      "metadata": {
        "execution": {
          "iopub.status.busy": "2023-10-17T15:17:47.169968Z",
          "iopub.execute_input": "2023-10-17T15:17:47.170308Z",
          "iopub.status.idle": "2023-10-17T15:17:47.564721Z",
          "shell.execute_reply.started": "2023-10-17T15:17:47.170282Z",
          "shell.execute_reply": "2023-10-17T15:17:47.563602Z"
        },
        "trusted": true,
        "id": "F5E9Heds_iR1"
      },
      "execution_count": null,
      "outputs": []
    },
    {
      "cell_type": "markdown",
      "source": [
        "## Cluster sizes"
      ],
      "metadata": {
        "id": "bzlg5VRP_iR1"
      }
    },
    {
      "cell_type": "code",
      "source": [
        "cluster_sizes = data.groupby('Cluster')[['MntTotal']].count().reset_index()\n",
        "plt.figure(figsize=(8,6))\n",
        "sns.barplot(x='Cluster', y='MntTotal', data=cluster_sizes, palette = 'viridis')\n",
        "plt.title('Cluster sizes')\n",
        "plt.xlabel('Cluster')\n",
        "plt.ylabel('MntTotal')\n"
      ],
      "metadata": {
        "execution": {
          "iopub.status.busy": "2023-10-17T14:54:49.435292Z",
          "iopub.execute_input": "2023-10-17T14:54:49.436405Z",
          "iopub.status.idle": "2023-10-17T14:54:49.734027Z",
          "shell.execute_reply.started": "2023-10-17T14:54:49.436356Z",
          "shell.execute_reply": "2023-10-17T14:54:49.732888Z"
        },
        "trusted": true,
        "id": "pofgT8xv_iR2"
      },
      "execution_count": null,
      "outputs": []
    },
    {
      "cell_type": "code",
      "source": [
        "total_rows = len(data)\n",
        "cluster_sizes['Share%'] = round(cluster_sizes['MntTotal'] / total_rows*100,0)\n",
        "cluster_sizes.head()\n"
      ],
      "metadata": {
        "execution": {
          "iopub.status.busy": "2023-10-17T14:54:49.735476Z",
          "iopub.execute_input": "2023-10-17T14:54:49.735811Z",
          "iopub.status.idle": "2023-10-17T14:54:49.748095Z",
          "shell.execute_reply.started": "2023-10-17T14:54:49.735785Z",
          "shell.execute_reply": "2023-10-17T14:54:49.747067Z"
        },
        "trusted": true,
        "id": "7g3POOsL_iR3"
      },
      "execution_count": null,
      "outputs": []
    },
    {
      "cell_type": "markdown",
      "source": [
        "## Income by cluster\n",
        "### Box plot"
      ],
      "metadata": {
        "id": "4DQJNUDU_iR5"
      }
    },
    {
      "cell_type": "code",
      "source": [
        "plt.figure(figsize=(8, 6))\n",
        "sns.boxplot(x='Cluster', y='Income', data=data, palette='viridis')\n",
        "plt.title('Income by cluster')\n",
        "plt.xlabel('Cluster')\n",
        "plt.ylabel('Income')\n",
        "plt.legend(title='Clusters')"
      ],
      "metadata": {
        "execution": {
          "iopub.status.busy": "2023-10-17T14:54:49.749367Z",
          "iopub.execute_input": "2023-10-17T14:54:49.749719Z",
          "iopub.status.idle": "2023-10-17T14:54:50.078758Z",
          "shell.execute_reply.started": "2023-10-17T14:54:49.74969Z",
          "shell.execute_reply": "2023-10-17T14:54:50.077597Z"
        },
        "trusted": true,
        "id": "Ts2c-_sN_iR8"
      },
      "execution_count": null,
      "outputs": []
    },
    {
      "cell_type": "markdown",
      "source": [
        "### Scatter plot"
      ],
      "metadata": {
        "id": "IXEFZB2d_iR-"
      }
    },
    {
      "cell_type": "code",
      "source": [
        "plt.figure(figsize=(8, 6))\n",
        "sns.scatterplot(x='Income', y='MntTotal', data=data, hue = 'Cluster', palette='viridis')\n",
        "plt.title('Income by cluster')\n",
        "plt.xlabel('Income')\n",
        "plt.ylabel('MntTotal')\n",
        "plt.legend(title='Clusters')"
      ],
      "metadata": {
        "execution": {
          "iopub.status.busy": "2023-10-17T14:54:50.080114Z",
          "iopub.execute_input": "2023-10-17T14:54:50.080424Z",
          "iopub.status.idle": "2023-10-17T14:54:50.669496Z",
          "shell.execute_reply.started": "2023-10-17T14:54:50.080398Z",
          "shell.execute_reply": "2023-10-17T14:54:50.668762Z"
        },
        "trusted": true,
        "id": "6e6RawlG_iR_"
      },
      "execution_count": null,
      "outputs": []
    },
    {
      "cell_type": "markdown",
      "source": [
        "## In_relationship feature by cluster"
      ],
      "metadata": {
        "id": "lKppjIxe_iSA"
      }
    },
    {
      "cell_type": "code",
      "source": [
        "plt.figure(figsize=(8, 6))\n",
        "sns.barplot(x='Cluster', y='In_relationship', data=data, palette='viridis')\n",
        "plt.title('In_relationship by cluster')\n",
        "plt.xlabel('Cluster')\n",
        "plt.ylabel('In_relationship')"
      ],
      "metadata": {
        "execution": {
          "iopub.status.busy": "2023-10-17T14:54:50.67071Z",
          "iopub.execute_input": "2023-10-17T14:54:50.671213Z",
          "iopub.status.idle": "2023-10-17T14:54:51.060572Z",
          "shell.execute_reply.started": "2023-10-17T14:54:50.671181Z",
          "shell.execute_reply": "2023-10-17T14:54:51.059157Z"
        },
        "trusted": true,
        "id": "fvryi8I8_iSB"
      },
      "execution_count": null,
      "outputs": []
    },
    {
      "cell_type": "markdown",
      "source": [
        "<a id=\"results\"></a>\n",
        "# Results\n",
        "This section contains the results of the K-means clustering analysis, which aimed to identify distinct customer segments based on the total amount of purchases they made (MntTotal). The analysis utilised 'Income' and 'In_relationship' features.\n",
        "\n",
        "## Optimal number of clusters = 4\n",
        "The Elbow Method and Silhouette Analysis suggested 4 clusters (k=4). The elbow method highlighted the number of 4 or 5 clusters as a reasonable number of clusters. The silhouette score analysis revealed a peak silhouette score for k=4.\n",
        "\n",
        "## Cluster Characteristics\n",
        "### Cluster 0: High value customers in relationship (either married or together)\n",
        "- This cluster represents 26% of the customer base\n",
        "- These customers have high income and they are in a relationship\n",
        "\n",
        "### Cluster 1: Low value single customers\n",
        "- This cluster represents 21% of the customer base\n",
        "- These customers have low income and they are single\n",
        "\n",
        "### Cluster 2: High value single customers\n",
        "- This cluster represents 15% of the customer base\n",
        "- These customers have high income and they are single\n",
        "\n",
        "### Cluster 3: Low value customers in relationship\n",
        "- This cluster represents 39% of the customer base\n",
        "- These customers have low income and they are in a relationship\n",
        "\n",
        "\n"
      ],
      "metadata": {
        "id": "gM3sbVew_iSB"
      }
    },
    {
      "cell_type": "markdown",
      "source": [
        "<a id=\"recommendations\"></a>\n",
        "# Recommendations\n",
        "Based on the clusters, tailored marketing strategies can be created. Customers from these segments will have different interests and product preferences.\n",
        "\n",
        "## Marketing Strategies for Each Cluster\n",
        "\n",
        "### Cluster 0: High value customers in relationship (either married or together)\n",
        "- Preliminary analysis showed that high income customers buy more wines and fruits.\n",
        "- A tailored campaign to promote high quality wines may bring good results.\n",
        "- This cluster contains customers in relationship, family-oriented promo-images should be quite effective for this audience.\n",
        "\n",
        "### Cluster 1: Low value single customers\n",
        "- Promos with discounts and coupons may bring good results for this targeted group.\n",
        "- Loyalty program may stimulate these customers to purchase more often.\n",
        "\n",
        "### Cluster 2: High value single customers\n",
        "- Similar to the Cluster 0, these customers buy a lot of wines and fruits.\n",
        "- This cluster contains single customers. Promo images with friends, parties or single trips may be more efficient for single customers\n",
        "\n",
        "### Cluster 3: Low value customers in relationship\n",
        "- This cluster has the highest percentage of our customers (39%).\n",
        "- Family offers and discounts may influence these customers to make more purchases\n",
        "\n",
        "## Opportunities for the further analysis\n",
        "- Further exploration on how children influence on the consumed products\n",
        "- Further analysis on the influence of education\n",
        "- analysis of frequent buyers\n",
        "- Analysis of sales channels, e.g. store, website, etc.\n",
        "- Analysis of the response to the marketing campaigns\n",
        "- It would be great to add gender data to the dataset\n",
        "- Test different clustering algorithms\n"
      ],
      "metadata": {
        "id": "Sl_AMBaC_iSC"
      }
    },
    {
      "cell_type": "markdown",
      "source": [
        "# Thank you!"
      ],
      "metadata": {
        "id": "0g66GbOj_iSD"
      }
    }
  ]
}